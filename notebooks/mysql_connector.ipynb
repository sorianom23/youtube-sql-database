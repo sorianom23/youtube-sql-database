{
 "cells": [
  {
   "cell_type": "code",
   "execution_count": 1,
   "metadata": {},
   "outputs": [],
   "source": [
    "import pandas as pd\n",
    "import numpy as np\n",
    "\n",
    "import pymysql\n",
    "from sqlalchemy import create_engine\n",
    "\n",
    "from dotenv import load_dotenv\n",
    "import os\n",
    "\n",
    "import getpass"
   ]
  },
  {
   "cell_type": "code",
   "execution_count": 2,
   "metadata": {},
   "outputs": [],
   "source": [
    "load_dotenv()\n",
    "mysql_password = os.getenv('MYSQL_NATIVE_PASSWORD')"
   ]
  },
  {
   "cell_type": "code",
   "execution_count": 3,
   "metadata": {},
   "outputs": [],
   "source": [
    "import mysql.connector\n",
    "\n",
    "conn = mysql.connector.connect(\n",
    "    host='localhost',       \n",
    "    user='msoriano',    \n",
    "    password=mysql_password,\n",
    "    database='youtube',\n",
    "    auth_plugin='mysql_native_password'\n",
    ")"
   ]
  },
  {
   "cell_type": "code",
   "execution_count": 5,
   "metadata": {},
   "outputs": [
    {
     "data": {
      "text/html": [
       "<div>\n",
       "<style scoped>\n",
       "    .dataframe tbody tr th:only-of-type {\n",
       "        vertical-align: middle;\n",
       "    }\n",
       "\n",
       "    .dataframe tbody tr th {\n",
       "        vertical-align: top;\n",
       "    }\n",
       "\n",
       "    .dataframe thead th {\n",
       "        text-align: right;\n",
       "    }\n",
       "</style>\n",
       "<table border=\"1\" class=\"dataframe\">\n",
       "  <thead>\n",
       "    <tr style=\"text-align: right;\">\n",
       "      <th></th>\n",
       "      <th>published date</th>\n",
       "      <th>title</th>\n",
       "      <th>views</th>\n",
       "      <th>likes</th>\n",
       "      <th>tags</th>\n",
       "      <th>day_of_week</th>\n",
       "    </tr>\n",
       "  </thead>\n",
       "  <tbody>\n",
       "    <tr>\n",
       "      <th>0</th>\n",
       "      <td>2023-05-10 17:30:05</td>\n",
       "      <td>Leer LIBROS físicos vs Leer en iPad y Audiolibros</td>\n",
       "      <td>2125</td>\n",
       "      <td>178</td>\n",
       "      <td>['libros digitales', 'booktube', 'libros', 'au...</td>\n",
       "      <td>Wednesday</td>\n",
       "    </tr>\n",
       "    <tr>\n",
       "      <th>1</th>\n",
       "      <td>2023-05-05 17:00:03</td>\n",
       "      <td>Apps para Mac que mejorarán tu productividad</td>\n",
       "      <td>4459</td>\n",
       "      <td>298</td>\n",
       "      <td>['top 5 apps para mac', 'mejores apps para mac...</td>\n",
       "      <td>Friday</td>\n",
       "    </tr>\n",
       "    <tr>\n",
       "      <th>2</th>\n",
       "      <td>2023-05-01 17:00:06</td>\n",
       "      <td>Notion en Español y consejos para principiantes</td>\n",
       "      <td>11489</td>\n",
       "      <td>590</td>\n",
       "      <td>['como usar notion en español', 'notion', 'cóm...</td>\n",
       "      <td>Monday</td>\n",
       "    </tr>\n",
       "    <tr>\n",
       "      <th>3</th>\n",
       "      <td>2023-04-13 17:03:43</td>\n",
       "      <td>Nintendo Switch: 10 Trucos que tienes que conocer</td>\n",
       "      <td>4722</td>\n",
       "      <td>346</td>\n",
       "      <td>['nintendo switch', 'trucos nintendo switch', ...</td>\n",
       "      <td>Thursday</td>\n",
       "    </tr>\n",
       "    <tr>\n",
       "      <th>4</th>\n",
       "      <td>2023-04-09 18:00:12</td>\n",
       "      <td>Mi teclado mecánico FAVORITO para Mac</td>\n",
       "      <td>3249</td>\n",
       "      <td>159</td>\n",
       "      <td>['nuphy', 'nuphy keyboard', 'mechanical keyboa...</td>\n",
       "      <td>Sunday</td>\n",
       "    </tr>\n",
       "  </tbody>\n",
       "</table>\n",
       "</div>"
      ],
      "text/plain": [
       "        published date                                              title  \\\n",
       "0  2023-05-10 17:30:05  Leer LIBROS físicos vs Leer en iPad y Audiolibros   \n",
       "1  2023-05-05 17:00:03       Apps para Mac que mejorarán tu productividad   \n",
       "2  2023-05-01 17:00:06    Notion en Español y consejos para principiantes   \n",
       "3  2023-04-13 17:03:43  Nintendo Switch: 10 Trucos que tienes que conocer   \n",
       "4  2023-04-09 18:00:12             Mi teclado mecánico FAVORITO para Mac    \n",
       "\n",
       "   views  likes                                               tags day_of_week  \n",
       "0   2125    178  ['libros digitales', 'booktube', 'libros', 'au...   Wednesday  \n",
       "1   4459    298  ['top 5 apps para mac', 'mejores apps para mac...      Friday  \n",
       "2  11489    590  ['como usar notion en español', 'notion', 'cóm...      Monday  \n",
       "3   4722    346  ['nintendo switch', 'trucos nintendo switch', ...    Thursday  \n",
       "4   3249    159  ['nuphy', 'nuphy keyboard', 'mechanical keyboa...      Sunday  "
      ]
     },
     "execution_count": 5,
     "metadata": {},
     "output_type": "execute_result"
    }
   ],
   "source": [
    "data = pd.read_csv('../data/data_clean.csv')\n",
    "data.head()"
   ]
  },
  {
   "cell_type": "code",
   "execution_count": 7,
   "metadata": {},
   "outputs": [],
   "source": [
    "column_data = data['day_of_week']"
   ]
  },
  {
   "cell_type": "code",
   "execution_count": 8,
   "metadata": {},
   "outputs": [],
   "source": [
    "cursor = conn.cursor()\n",
    "\n",
    "table_name = 'weekday'\n",
    "column_name = 'weekday'\n",
    "data_type = 'VARCHAR(20)'\n",
    "\n",
    "create_table_query = f\"CREATE TABLE IF NOT EXISTS {table_name} ({column_name} {data_type})\"\n",
    "cursor.execute(create_table_query)\n",
    "\n",
    "insert_query = f\"INSERT INTO {table_name} ({column_name}) VALUES (%s)\"\n",
    "values = [(val,) for val in column_data]\n",
    "cursor.executemany(insert_query, values)\n",
    " \n",
    "conn.commit()"
   ]
  }
 ],
 "metadata": {
  "kernelspec": {
   "display_name": "Python 3",
   "language": "python",
   "name": "python3"
  },
  "language_info": {
   "codemirror_mode": {
    "name": "ipython",
    "version": 3
   },
   "file_extension": ".py",
   "mimetype": "text/x-python",
   "name": "python",
   "nbconvert_exporter": "python",
   "pygments_lexer": "ipython3",
   "version": "3.9.1"
  },
  "orig_nbformat": 4
 },
 "nbformat": 4,
 "nbformat_minor": 2
}
