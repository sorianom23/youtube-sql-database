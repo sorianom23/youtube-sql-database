{
 "cells": [
  {
   "cell_type": "code",
   "execution_count": 4,
   "metadata": {},
   "outputs": [],
   "source": [
    "import pandas as pd\n",
    "import numpy as np"
   ]
  },
  {
   "cell_type": "code",
   "execution_count": 5,
   "metadata": {},
   "outputs": [
    {
     "data": {
      "text/html": [
       "<div>\n",
       "<style scoped>\n",
       "    .dataframe tbody tr th:only-of-type {\n",
       "        vertical-align: middle;\n",
       "    }\n",
       "\n",
       "    .dataframe tbody tr th {\n",
       "        vertical-align: top;\n",
       "    }\n",
       "\n",
       "    .dataframe thead th {\n",
       "        text-align: right;\n",
       "    }\n",
       "</style>\n",
       "<table border=\"1\" class=\"dataframe\">\n",
       "  <thead>\n",
       "    <tr style=\"text-align: right;\">\n",
       "      <th></th>\n",
       "      <th>Published Date</th>\n",
       "      <th>Title</th>\n",
       "      <th>Views</th>\n",
       "      <th>Likes</th>\n",
       "      <th>Tags</th>\n",
       "    </tr>\n",
       "  </thead>\n",
       "  <tbody>\n",
       "    <tr>\n",
       "      <th>0</th>\n",
       "      <td>2023-05-10T17:30:05Z</td>\n",
       "      <td>Leer LIBROS físicos vs Leer en iPad y Audiolibros</td>\n",
       "      <td>2125</td>\n",
       "      <td>178</td>\n",
       "      <td>['libros digitales', 'booktube', 'libros', 'au...</td>\n",
       "    </tr>\n",
       "    <tr>\n",
       "      <th>1</th>\n",
       "      <td>2023-05-05T17:00:03Z</td>\n",
       "      <td>Apps para Mac que mejorarán tu productividad</td>\n",
       "      <td>4459</td>\n",
       "      <td>298</td>\n",
       "      <td>['top 5 apps para mac', 'mejores apps para mac...</td>\n",
       "    </tr>\n",
       "    <tr>\n",
       "      <th>2</th>\n",
       "      <td>2023-05-01T17:00:06Z</td>\n",
       "      <td>Notion en Español y consejos para principiantes</td>\n",
       "      <td>11489</td>\n",
       "      <td>590</td>\n",
       "      <td>['como usar notion en español', 'notion', 'cóm...</td>\n",
       "    </tr>\n",
       "    <tr>\n",
       "      <th>3</th>\n",
       "      <td>2023-04-13T17:03:43Z</td>\n",
       "      <td>Nintendo Switch: 10 Trucos que tienes que conocer</td>\n",
       "      <td>4722</td>\n",
       "      <td>346</td>\n",
       "      <td>['nintendo switch', 'trucos nintendo switch', ...</td>\n",
       "    </tr>\n",
       "    <tr>\n",
       "      <th>4</th>\n",
       "      <td>2023-04-09T18:00:12Z</td>\n",
       "      <td>Mi teclado mecánico FAVORITO para Mac 🥇</td>\n",
       "      <td>3249</td>\n",
       "      <td>159</td>\n",
       "      <td>['nuphy', 'nuphy keyboard', 'mechanical keyboa...</td>\n",
       "    </tr>\n",
       "    <tr>\n",
       "      <th>...</th>\n",
       "      <td>...</td>\n",
       "      <td>...</td>\n",
       "      <td>...</td>\n",
       "      <td>...</td>\n",
       "      <td>...</td>\n",
       "    </tr>\n",
       "    <tr>\n",
       "      <th>244</th>\n",
       "      <td>2019-10-05T22:20:32Z</td>\n",
       "      <td>ANÁLISIS | REVIEW del iPhone11 Pro Max en Espa...</td>\n",
       "      <td>1050</td>\n",
       "      <td>114</td>\n",
       "      <td>['iPhone11ProReviewEspañol', 'iPhone11Pro', 'i...</td>\n",
       "    </tr>\n",
       "    <tr>\n",
       "      <th>245</th>\n",
       "      <td>2019-09-26T10:00:09Z</td>\n",
       "      <td>Así es el Nuevo iPhone11 Pro Max. Increíble.</td>\n",
       "      <td>680</td>\n",
       "      <td>60</td>\n",
       "      <td>['iphone 11', 'iphone 11 pro', 'iphone 11 pro ...</td>\n",
       "    </tr>\n",
       "    <tr>\n",
       "      <th>246</th>\n",
       "      <td>2019-09-20T10:00:19Z</td>\n",
       "      <td>Vivir en Estados Unidos. Capítulo 1</td>\n",
       "      <td>1486</td>\n",
       "      <td>131</td>\n",
       "      <td>['#vivirenestadosunidos', '#vivirenusa', '#viv...</td>\n",
       "    </tr>\n",
       "    <tr>\n",
       "      <th>247</th>\n",
       "      <td>2019-09-10T10:45:23Z</td>\n",
       "      <td>Las 3 mejores Apps de Realidad Aumentada</td>\n",
       "      <td>882</td>\n",
       "      <td>52</td>\n",
       "      <td>['tecnología', 'realidadaumentada', 'ar', 'vr'...</td>\n",
       "    </tr>\n",
       "    <tr>\n",
       "      <th>248</th>\n",
       "      <td>2019-09-09T19:45:01Z</td>\n",
       "      <td>Bienvenidos a mi canal: Soriano Tech</td>\n",
       "      <td>2798</td>\n",
       "      <td>321</td>\n",
       "      <td>['tecnología', 'tech', 'estilodevida', 'vlog',...</td>\n",
       "    </tr>\n",
       "  </tbody>\n",
       "</table>\n",
       "<p>249 rows × 5 columns</p>\n",
       "</div>"
      ],
      "text/plain": [
       "           Published Date                                              Title  \\\n",
       "0    2023-05-10T17:30:05Z  Leer LIBROS físicos vs Leer en iPad y Audiolibros   \n",
       "1    2023-05-05T17:00:03Z       Apps para Mac que mejorarán tu productividad   \n",
       "2    2023-05-01T17:00:06Z    Notion en Español y consejos para principiantes   \n",
       "3    2023-04-13T17:03:43Z  Nintendo Switch: 10 Trucos que tienes que conocer   \n",
       "4    2023-04-09T18:00:12Z            Mi teclado mecánico FAVORITO para Mac 🥇   \n",
       "..                    ...                                                ...   \n",
       "244  2019-10-05T22:20:32Z  ANÁLISIS | REVIEW del iPhone11 Pro Max en Espa...   \n",
       "245  2019-09-26T10:00:09Z       Así es el Nuevo iPhone11 Pro Max. Increíble.   \n",
       "246  2019-09-20T10:00:19Z                Vivir en Estados Unidos. Capítulo 1   \n",
       "247  2019-09-10T10:45:23Z           Las 3 mejores Apps de Realidad Aumentada   \n",
       "248  2019-09-09T19:45:01Z               Bienvenidos a mi canal: Soriano Tech   \n",
       "\n",
       "     Views  Likes                                               Tags  \n",
       "0     2125    178  ['libros digitales', 'booktube', 'libros', 'au...  \n",
       "1     4459    298  ['top 5 apps para mac', 'mejores apps para mac...  \n",
       "2    11489    590  ['como usar notion en español', 'notion', 'cóm...  \n",
       "3     4722    346  ['nintendo switch', 'trucos nintendo switch', ...  \n",
       "4     3249    159  ['nuphy', 'nuphy keyboard', 'mechanical keyboa...  \n",
       "..     ...    ...                                                ...  \n",
       "244   1050    114  ['iPhone11ProReviewEspañol', 'iPhone11Pro', 'i...  \n",
       "245    680     60  ['iphone 11', 'iphone 11 pro', 'iphone 11 pro ...  \n",
       "246   1486    131  ['#vivirenestadosunidos', '#vivirenusa', '#viv...  \n",
       "247    882     52  ['tecnología', 'realidadaumentada', 'ar', 'vr'...  \n",
       "248   2798    321  ['tecnología', 'tech', 'estilodevida', 'vlog',...  \n",
       "\n",
       "[249 rows x 5 columns]"
      ]
     },
     "execution_count": 5,
     "metadata": {},
     "output_type": "execute_result"
    }
   ],
   "source": [
    "data = pd.read_csv('../data/channel_stats.csv')\n",
    "data"
   ]
  },
  {
   "cell_type": "code",
   "execution_count": 6,
   "metadata": {},
   "outputs": [
    {
     "data": {
      "text/plain": [
       "Index(['published date', 'title', 'views', 'likes', 'tags'], dtype='object')"
      ]
     },
     "execution_count": 6,
     "metadata": {},
     "output_type": "execute_result"
    }
   ],
   "source": [
    "data = data.rename(columns=lambda x: x.lower())\n",
    "data.columns"
   ]
  },
  {
   "cell_type": "code",
   "execution_count": 7,
   "metadata": {},
   "outputs": [
    {
     "name": "stdout",
     "output_type": "stream",
     "text": [
      "<class 'pandas.core.frame.DataFrame'>\n",
      "RangeIndex: 249 entries, 0 to 248\n",
      "Data columns (total 5 columns):\n",
      " #   Column          Non-Null Count  Dtype \n",
      "---  ------          --------------  ----- \n",
      " 0   published date  249 non-null    object\n",
      " 1   title           249 non-null    object\n",
      " 2   views           249 non-null    int64 \n",
      " 3   likes           249 non-null    int64 \n",
      " 4   tags            249 non-null    object\n",
      "dtypes: int64(2), object(3)\n",
      "memory usage: 9.9+ KB\n"
     ]
    }
   ],
   "source": [
    "data.info()"
   ]
  },
  {
   "cell_type": "code",
   "execution_count": 8,
   "metadata": {},
   "outputs": [
    {
     "name": "stdout",
     "output_type": "stream",
     "text": [
      "datetime64[ns, UTC]\n"
     ]
    }
   ],
   "source": [
    "data['published date'] = pd.to_datetime(data['published date'])\n",
    "print(data['published date'].dtype)\n"
   ]
  },
  {
   "cell_type": "code",
   "execution_count": 9,
   "metadata": {},
   "outputs": [
    {
     "data": {
      "text/html": [
       "<div>\n",
       "<style scoped>\n",
       "    .dataframe tbody tr th:only-of-type {\n",
       "        vertical-align: middle;\n",
       "    }\n",
       "\n",
       "    .dataframe tbody tr th {\n",
       "        vertical-align: top;\n",
       "    }\n",
       "\n",
       "    .dataframe thead th {\n",
       "        text-align: right;\n",
       "    }\n",
       "</style>\n",
       "<table border=\"1\" class=\"dataframe\">\n",
       "  <thead>\n",
       "    <tr style=\"text-align: right;\">\n",
       "      <th></th>\n",
       "      <th>published date</th>\n",
       "      <th>title</th>\n",
       "      <th>views</th>\n",
       "      <th>likes</th>\n",
       "      <th>tags</th>\n",
       "      <th>day_of_week</th>\n",
       "    </tr>\n",
       "  </thead>\n",
       "  <tbody>\n",
       "    <tr>\n",
       "      <th>0</th>\n",
       "      <td>2023-05-10 17:30:05+00:00</td>\n",
       "      <td>Leer LIBROS físicos vs Leer en iPad y Audiolibros</td>\n",
       "      <td>2125</td>\n",
       "      <td>178</td>\n",
       "      <td>['libros digitales', 'booktube', 'libros', 'au...</td>\n",
       "      <td>Wednesday</td>\n",
       "    </tr>\n",
       "    <tr>\n",
       "      <th>1</th>\n",
       "      <td>2023-05-05 17:00:03+00:00</td>\n",
       "      <td>Apps para Mac que mejorarán tu productividad</td>\n",
       "      <td>4459</td>\n",
       "      <td>298</td>\n",
       "      <td>['top 5 apps para mac', 'mejores apps para mac...</td>\n",
       "      <td>Friday</td>\n",
       "    </tr>\n",
       "    <tr>\n",
       "      <th>2</th>\n",
       "      <td>2023-05-01 17:00:06+00:00</td>\n",
       "      <td>Notion en Español y consejos para principiantes</td>\n",
       "      <td>11489</td>\n",
       "      <td>590</td>\n",
       "      <td>['como usar notion en español', 'notion', 'cóm...</td>\n",
       "      <td>Monday</td>\n",
       "    </tr>\n",
       "    <tr>\n",
       "      <th>3</th>\n",
       "      <td>2023-04-13 17:03:43+00:00</td>\n",
       "      <td>Nintendo Switch: 10 Trucos que tienes que conocer</td>\n",
       "      <td>4722</td>\n",
       "      <td>346</td>\n",
       "      <td>['nintendo switch', 'trucos nintendo switch', ...</td>\n",
       "      <td>Thursday</td>\n",
       "    </tr>\n",
       "    <tr>\n",
       "      <th>4</th>\n",
       "      <td>2023-04-09 18:00:12+00:00</td>\n",
       "      <td>Mi teclado mecánico FAVORITO para Mac 🥇</td>\n",
       "      <td>3249</td>\n",
       "      <td>159</td>\n",
       "      <td>['nuphy', 'nuphy keyboard', 'mechanical keyboa...</td>\n",
       "      <td>Sunday</td>\n",
       "    </tr>\n",
       "  </tbody>\n",
       "</table>\n",
       "</div>"
      ],
      "text/plain": [
       "             published date  \\\n",
       "0 2023-05-10 17:30:05+00:00   \n",
       "1 2023-05-05 17:00:03+00:00   \n",
       "2 2023-05-01 17:00:06+00:00   \n",
       "3 2023-04-13 17:03:43+00:00   \n",
       "4 2023-04-09 18:00:12+00:00   \n",
       "\n",
       "                                               title  views  likes  \\\n",
       "0  Leer LIBROS físicos vs Leer en iPad y Audiolibros   2125    178   \n",
       "1       Apps para Mac que mejorarán tu productividad   4459    298   \n",
       "2    Notion en Español y consejos para principiantes  11489    590   \n",
       "3  Nintendo Switch: 10 Trucos que tienes que conocer   4722    346   \n",
       "4            Mi teclado mecánico FAVORITO para Mac 🥇   3249    159   \n",
       "\n",
       "                                                tags day_of_week  \n",
       "0  ['libros digitales', 'booktube', 'libros', 'au...   Wednesday  \n",
       "1  ['top 5 apps para mac', 'mejores apps para mac...      Friday  \n",
       "2  ['como usar notion en español', 'notion', 'cóm...      Monday  \n",
       "3  ['nintendo switch', 'trucos nintendo switch', ...    Thursday  \n",
       "4  ['nuphy', 'nuphy keyboard', 'mechanical keyboa...      Sunday  "
      ]
     },
     "execution_count": 9,
     "metadata": {},
     "output_type": "execute_result"
    }
   ],
   "source": [
    "data['day_of_week'] = data['published date'].dt.day_name()\n",
    "data.head()"
   ]
  },
  {
   "cell_type": "code",
   "execution_count": null,
   "metadata": {},
   "outputs": [],
   "source": []
  }
 ],
 "metadata": {
  "kernelspec": {
   "display_name": "base",
   "language": "python",
   "name": "python3"
  },
  "language_info": {
   "codemirror_mode": {
    "name": "ipython",
    "version": 3
   },
   "file_extension": ".py",
   "mimetype": "text/x-python",
   "name": "python",
   "nbconvert_exporter": "python",
   "pygments_lexer": "ipython3",
   "version": "3.9.12"
  },
  "orig_nbformat": 4
 },
 "nbformat": 4,
 "nbformat_minor": 2
}
